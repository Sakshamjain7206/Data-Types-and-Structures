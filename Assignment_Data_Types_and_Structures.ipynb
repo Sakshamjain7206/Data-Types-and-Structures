{
  "nbformat": 4,
  "nbformat_minor": 0,
  "metadata": {
    "colab": {
      "provenance": []
    },
    "kernelspec": {
      "name": "python3",
      "display_name": "Python 3"
    },
    "language_info": {
      "name": "python"
    }
  },
  "cells": [
    {
      "cell_type": "markdown",
      "source": [
        "\n",
        "\n",
        "# Data Types and Structures Questions\n"
      ],
      "metadata": {
        "id": "2og40TVe_g7V"
      }
    },
    {
      "cell_type": "markdown",
      "source": [
        "1. What are data structures, and why are they important?\n",
        "\n",
        "Ans- Data structures are specialized formats for organizing and managing data to enable efficient access, modification, and storage. They include arrays, linked lists, stacks, queues, trees, graphs, and hash tables.\n",
        "\n",
        "**Importance**\n",
        "1. Optimize performance and memory usage.\n",
        "2. Support efficient algorithms.\n",
        "3. Solve complex problems like routing and hierarchy modeling.\n",
        "4. Enable scalable and reliable software systems.\n",
        "5. Improve data retrieval and processing speed.\n",
        "\n",
        "Data structures are the backbone of software development, essential for building high-performing and robust applications.\n",
        "\n",
        "\n",
        "\n",
        "\n",
        "\n",
        "\n",
        "\n"
      ],
      "metadata": {
        "id": "MY6Em-dl_nMN"
      }
    },
    {
      "cell_type": "markdown",
      "source": [
        "2. Explain the difference between mutable and immutable data types with examples.\n",
        "\n",
        "Ans-Mutable data types can be modified after creation, meaning their values can change in place. Examples include lists (my_list[0] = 10) and dictionaries (my_dict[\"key\"] = \"value\"), which allow updates without creating new objects.\n",
        "\n",
        "Immutable data types, on the other hand, cannot be altered after creation. Any modification creates a new object. Examples include strings (\"hello\".upper()) and tuples ((1, 2, 3)), which remain unchanged.\n",
        "\n",
        "The key difference is that mutable types support in-place modifications, while immutable types provide stability, making them safer for scenarios like multi-threading and hash-based operations (e.g., dictionary keys).\n",
        "\n"
      ],
      "metadata": {
        "id": "g7NSEjcwAmhU"
      }
    },
    {
      "cell_type": "markdown",
      "source": [
        "3. What are the main differences between lists and tuples in Python?\n",
        "\n",
        "Ans- Lists and tuples in Python are both used to store collections of items, but they have several key differences:\n",
        "\n",
        "1. **Mutability**: Lists are mutable, meaning their elements can be changed or modified after creation. In contrast, tuples are immutable, so their contents cannot be altered once defined.\n",
        "\n",
        "2. **Syntax**: Lists are created using square brackets ([ ]), while tuples use parentheses (( )).\n",
        "\n",
        "3. **Performance**: Tuples are generally faster than lists due to their immutability, making them more memory-efficient.\n",
        "\n",
        "4. **Use** **Case**: Lists are suitable for dynamic data that needs to change, while tuples are better for static data that remains constant.\n",
        "\n",
        "5. **Memory Usage**: Tuples consume less memory than lists, making them more lightweight.\n",
        "\n",
        "6. **Built-in Methods**: Lists have more built-in methods like append and remove, while tuples have fewer due to their immutability.\n",
        "\n",
        "7. **Hashability**: Tuples are hashable if their elements are immutable, allowing them to be used as keys in dictionaries. Lists are not hashable.\n",
        "\n",
        "**Example:**\n",
        "\n",
        "List: my_list = [1, 2, 3]\n",
        "Tuple: my_tuple = (1, 2, 3)"
      ],
      "metadata": {
        "id": "mIAGpOzDA-tM"
      }
    },
    {
      "cell_type": "markdown",
      "source": [
        "4. Describe how dictionaries store data.\n",
        "\n",
        "Ans-Dictionaries in Python store data as **key-value pairs** in a highly efficient and organized manner using **hashing**. Here's how they work:\n",
        "\n",
        "1. **Key-Value Structure**:  \n",
        "   Each entry in a dictionary has a unique key associated with a value. Keys must be immutable (e.g., strings, numbers, tuples), while values can be of any data type.\n",
        "\n",
        "   Example:  \n",
        "   ```python\n",
        "   my_dict = {\"name\": \"Alice\", \"age\": 25, \"city\": \"New York\"}\n",
        "   ```\n",
        "\n",
        "2. **Hashing**:  \n",
        "   Keys are hashed using a hash function to generate a unique hash code, which determines where the key-value pair is stored in memory. This ensures quick access.\n",
        "\n",
        "3. **Fast Lookup**:  \n",
        "   Using the hash code, dictionaries provide constant-time complexity, O(1), for retrieving, updating, or deleting values based on their keys.\n",
        "\n",
        "4. **Collision Handling**:  \n",
        "   If two keys produce the same hash code (a collision), Python uses techniques like **open addressing** or **chaining** to resolve conflicts and store the data.\n",
        "\n",
        "5. **Dynamic Sizing**:  \n",
        "   Dictionaries automatically resize their underlying storage to maintain efficiency as new items are added.\n",
        "\n",
        "Dictionaries are ideal for scenarios requiring fast, key-based access to data."
      ],
      "metadata": {
        "id": "65Xsz8RlB1YW"
      }
    },
    {
      "cell_type": "markdown",
      "source": [
        "5. Why might you use a set instead of a list in Python?\n",
        "\n",
        "Ans-You might use a **set** instead of a **list** in Python when:  \n",
        "\n",
        "1. **Unique Elements Are Required**:  \n",
        "   Sets automatically eliminate duplicate values, ensuring all elements are unique.  \n",
        "   Example:  \n",
        "   ```python\n",
        "   my_list = [1, 2, 2, 3]\n",
        "   my_set = set(my_list)  # Result: {1, 2, 3}\n",
        "   ```\n",
        "\n",
        "2. **Fast Membership Testing**:  \n",
        "   Sets provide faster lookups (`O(1)` complexity) for checking if an item exists compared to lists (`O(n)` complexity).  \n",
        "   Example:  \n",
        "   ```python\n",
        "   if item in my_set:  # Faster than checking in a list\n",
        "       pass\n",
        "   ```\n",
        "\n",
        "3. **Set Operations**:  \n",
        "   Sets support mathematical operations like union, intersection, and difference, which are not directly available with lists.  \n",
        "   Example:  \n",
        "   ```python\n",
        "   set1 = {1, 2, 3}\n",
        "   set2 = {3, 4, 5}\n",
        "   print(set1.intersection(set2))  # Output: {3}\n",
        "   ```\n",
        "\n",
        "4. **Unordered Data**:  \n",
        "   If the order of elements is not important, sets are a better choice due to their optimized storage.  \n",
        "\n",
        "While sets are faster and provide additional functionality, lists are preferred when duplicates or element order matter."
      ],
      "metadata": {
        "id": "YgCwjS6gCOoU"
      }
    },
    {
      "cell_type": "markdown",
      "source": [
        "6. What is a string in Python, and how is it different from a list?\n",
        "\n",
        "Ans-In Python, a **string** is a sequence of characters enclosed in single quotes (`'`) or double quotes (`\"`). It is used to represent textual data.\n",
        "\n",
        " **Differences Between a String and a List**\n",
        "\n",
        "1. **Data Type**:\n",
        "   - A **string** is a **sequence of characters**, and each character is immutable.\n",
        "   - A **list** is a **collection of items** that can be of any data type, including strings, integers, and more.\n",
        "\n",
        "2. **Mutability**:\n",
        "   - Strings are **immutable**, meaning their content cannot be changed after they are created.\n",
        "   - Lists are **mutable**, so their elements can be modified, added, or removed.\n",
        "\n",
        "3. **Indexing**:\n",
        "   - Both strings and lists are indexed, but since strings are immutable, you cannot modify an individual character directly (e.g., `my_string[0] = 'A'` will raise an error).\n",
        "   - Lists allow direct modification of elements (e.g., `my_list[0] = 'A'`).\n",
        "\n",
        "4. **Data Types in Elements**:\n",
        "   - In a **string**, all elements are characters (strings of length 1).\n",
        "   - A **list** can contain elements of any type, including numbers, strings, other lists, etc.\n",
        "\n",
        "5. **Use Cases**:\n",
        "   - Strings are primarily used for handling and manipulating text.\n",
        "   - Lists are more versatile and are used for storing collections of heterogeneous items.\n",
        "\n"
      ],
      "metadata": {
        "id": "30YaRZcADGne"
      }
    },
    {
      "cell_type": "markdown",
      "source": [
        "7. How do tuples ensure data integrity in Python?\n",
        "\n",
        "Ans- Tuples in Python help ensure **data integrity** because they are **immutable**, meaning once you create a tuple, you can't change its contents. This provides several benefits:\n",
        "\n",
        "1. **Prevents Accidental Changes**:  \n",
        "   Since tuples cannot be modified, the data stays the same throughout the program. This helps avoid mistakes.\n",
        "\n",
        "2. **Keeps Data Safe**:  \n",
        "   Tuples protect the data from being altered, making them good for storing important, unchanging information.\n",
        "\n",
        "3. **Used as Dictionary Keys**:  \n",
        "   Since tuples are immutable, they can be used as keys in dictionaries or items in sets, where data needs to stay the same.\n",
        "\n",
        "### Example:\n",
        "```python\n",
        "my_tuple = (1, 2, 3)\n",
        "# Trying to change a value will give an error\n",
        "# my_tuple[0] = 10  # This will raise an error\n",
        "```\n",
        "\n",
        "In simple terms, tuples make sure your data stays unchanged, keeping it safe and reliable.\n",
        "\n"
      ],
      "metadata": {
        "id": "omtTRcvNDdHM"
      }
    },
    {
      "cell_type": "markdown",
      "source": [
        "8. What is a hash table, and how does it relate to dictionaries in Python?\n",
        "\n",
        "Ans- A **hash table** is a data structure that stores data using a **key-value** pair. It uses a **hash function** to map keys to specific locations in an array, allowing fast access to values. Python **dictionaries** are built using hash tables. When you use a dictionary, Python automatically hashes the keys to find the correct spot in memory to store the value. This makes dictionary operations like looking up, adding, or deleting items very fast."
      ],
      "metadata": {
        "id": "hHDPF0AhEDy-"
      }
    },
    {
      "cell_type": "markdown",
      "source": [
        "9. Can lists contain different data types in Python?\n",
        "\n",
        "Ans-Yes, **lists** in Python can contain elements of **different data types**. A list is a collection that can hold items such as integers, strings, floats, or even other lists. This makes lists versatile and able to store heterogeneous data.\n",
        "\n",
        "### Example:\n",
        "```python\n",
        "my_list = [1, \"apple\", 3.14, True, [5, 6]]\n",
        "```\n",
        "In this example, `my_list` contains an integer, a string, a float, a boolean, and another list, all mixed together."
      ],
      "metadata": {
        "id": "nuVnvhPwEYne"
      }
    },
    {
      "cell_type": "markdown",
      "source": [
        "10. Explain why strings are immutable in Python.\n",
        "\n",
        "Ans-Strings in Python are **immutable**, meaning once a string is created, you cannot change its content. This is done for a few reasons:\n",
        "\n",
        "1. **Efficiency**:  \n",
        "   Python can use memory more efficiently because strings don’t change.\n",
        "\n",
        "2. **Safety**:  \n",
        "   Immutability prevents accidental changes to the string, keeping your data safe.\n",
        "\n",
        "3. **Consistency**:  \n",
        "   Since strings can’t be changed, they can be used as keys in dictionaries, ensuring they stay the same.\n",
        "\n",
        "If you want to change a string, Python creates a new one instead of modifying the original."
      ],
      "metadata": {
        "id": "c1GnQRLRElCM"
      }
    },
    {
      "cell_type": "markdown",
      "source": [
        "11. What advantages do dictionaries offer over lists for certain tasks?\n",
        "\n",
        "Ans-Dictionaries offer several advantages over lists for specific tasks:\n",
        "\n",
        "1. **Fast Lookups**:  \n",
        "   Dictionaries allow fast access to data using keys, with O(1) time complexity for retrieving values. In contrast, lists require O(n) time to search through elements.\n",
        "\n",
        "2. **Unique Keys**:  \n",
        "   Dictionaries ensure each key is unique, making them perfect for tasks where you need to map one item to another, such as storing information with unique identifiers.\n",
        "\n",
        "3. **Efficient Insertion and Deletion**:  \n",
        "   Inserting or removing elements in dictionaries is generally faster than in lists, as dictionaries use hash tables to directly access positions.\n",
        "\n",
        "4. **Key-Value Pair Storage**:  \n",
        "   Dictionaries store data as key-value pairs, making it easier to associate data (e.g., names with phone numbers) compared to lists, which store values in a sequential manner.\n"
      ],
      "metadata": {
        "id": "_V_1SqrYE7sV"
      }
    },
    {
      "cell_type": "markdown",
      "source": [
        "12. Describe a scenario where using a tuple would be preferable over a list.\n",
        "\n",
        "Ans-A **tuple** is better than a **list** when you need to store data that **should not change**. For example, if you're saving the **coordinates** of a place (latitude and longitude), you want them to stay the same throughout the program.\n",
        "\n",
        "### Example:\n",
        "```python\n",
        "# Storing coordinates in a tuple\n",
        "coordinates = (40.7128, -74.0060)  # New York City\n",
        "```\n",
        "\n",
        "Here, using a tuple is good because:\n",
        "- It keeps the data **safe** from accidental changes.\n",
        "- Tuples are **faster** and **use less memory** than lists.\n",
        "\n",
        "If the coordinates were stored in a list, they could be changed by mistake, which could cause problems."
      ],
      "metadata": {
        "id": "T63rE3osFRoU"
      }
    },
    {
      "cell_type": "markdown",
      "source": [
        "13.  How do sets handle duplicate values in Python?\n",
        "\n",
        "Ans-In Python, **sets** automatically **remove duplicate values**. A set only stores **unique** elements, so if you try to add a duplicate item, it will be ignored.\n",
        "\n",
        "### Example:\n",
        "```python\n",
        "my_set = {1, 2, 3, 3, 4}\n",
        "print(my_set)  # Output: {1, 2, 3, 4}\n",
        "```\n",
        "\n",
        "In this example, even though `3` appears twice, the set only keeps one instance of it. This behavior ensures that sets always contain only unique elements."
      ],
      "metadata": {
        "id": "rYe2W6zOFmTE"
      }
    },
    {
      "cell_type": "markdown",
      "source": [
        "14.  How does the “in” keyword work differently for lists and dictionaries?\n",
        "\n",
        "Ans-The **`in`** keyword works differently for **lists** and **dictionaries** in Python because it checks for membership in different ways:\n",
        "\n",
        "### **1. In a List**:\n",
        "- The `in` keyword checks if the **element** is present in the list.\n",
        "- It searches through the list sequentially (linear search).\n",
        "\n",
        "#### Example:\n",
        "```python\n",
        "my_list = [1, 2, 3, 4]\n",
        "print(3 in my_list)  # Output: True\n",
        "print(5 in my_list)  # Output: False\n",
        "```\n",
        "\n",
        "### **2. In a Dictionary**:\n",
        "- The `in` keyword checks if the **key** is present in the dictionary.\n",
        "- It looks for the key in constant time, making the operation faster compared to lists.\n",
        "\n",
        "#### Example:\n",
        "```python\n",
        "my_dict = {\"name\": \"Ajay\", \"age\": 25}\n",
        "print(\"name\" in my_dict)  # Output: True\n",
        "print(\"city\" in my_dict)  # Output: False\n",
        "```\n",
        "\n",
        "### Key Difference:\n",
        "- In **lists**, `in` checks for the presence of an element (value).\n",
        "- In **dictionaries**, `in` checks for the presence of a **key**."
      ],
      "metadata": {
        "id": "kNj8G8y4F3iU"
      }
    },
    {
      "cell_type": "markdown",
      "source": [
        "15.  Can you modify the elements of a tuple? Explain why or why not.\n",
        "\n",
        "Ans-No, you **cannot change** the elements of a tuple because tuples are **immutable**. Once you create a tuple, the values inside it stay the same and can't be modified.\n",
        "\n",
        "### Why Not?\n",
        "- **Immutability**: Tuples are made to stay the same, so their values can't be changed after creation.\n",
        "- **Safety**: This helps avoid accidental changes and keeps the data safe.\n",
        "\n",
        "### Example:\n",
        "```python\n",
        "my_tuple = (1, 2, 3)\n",
        "# Trying to change a value will give an error\n",
        "# my_tuple[0] = 10  # This will cause an error\n",
        "```\n",
        "\n",
        "If you need to change the data, use a **list** instead, as lists can be changed."
      ],
      "metadata": {
        "id": "3hrhdRnDGW30"
      }
    },
    {
      "cell_type": "markdown",
      "source": [
        "16. What is a nested dictionary, and give an example of its use case?\n",
        "\n",
        "Ans-A **nested dictionary** is a dictionary where the value of a key is another dictionary. This allows you to store complex data structures, where you can organize and access data in multiple levels.\n",
        "\n",
        "### **Use Case**:\n",
        "A common use case for a nested dictionary is storing data like **student information**. You might want to store a student's details (name, age, etc.) inside a dictionary, and then each student’s dictionary can be stored in another dictionary, with the student’s ID as the key.\n",
        "\n",
        "### **Example**:\n",
        "```python\n",
        "students = {\n",
        "    101: {\"name\": \"Ajay\", \"age\": 20, \"grade\": \"A\"},\n",
        "    102: {\"name\": \"Ben\", \"age\": 22, \"grade\": \"B\"},\n",
        "    103: {\"name\": \"Charlie\", \"age\": 21, \"grade\": \"A+\"}\n",
        "}\n",
        "\n",
        "# Accessing data for student with ID 101\n",
        "print(students[101][\"name\"])  # Output: Ajay\n",
        "print(students[102][\"age\"])   # Output: 22\n",
        "```\n",
        "\n",
        "In this example, the main dictionary `students` has student IDs as keys, and the values are dictionaries containing each student's details."
      ],
      "metadata": {
        "id": "0IDUcZ8yGwZ8"
      }
    },
    {
      "cell_type": "markdown",
      "source": [
        "17. Describe the time complexity of accessing elements in a dictionary.\n",
        "\n",
        "Ans-Accessing elements in a **dictionary** is usually **very fast** with a time complexity of **O(1)**, which means it takes the same amount of time no matter how big the dictionary is.\n",
        "\n",
        "### Why O(1)?\n",
        "- **Hashing**: When you use a key to get a value, Python uses a special process called **hashing** to quickly find the data. This process is fast, so looking up a value doesn’t depend on how many items are in the dictionary.\n",
        "\n",
        "### Example:\n",
        "```python\n",
        "my_dict = {\"name\": \"Alice\", \"age\": 25}\n",
        "print(my_dict[\"name\"])  # Output: Alice\n",
        "```\n",
        "\n",
        "In most cases, this lookup is super fast and happens in **constant time**."
      ],
      "metadata": {
        "id": "mVaVoGY_HFsW"
      }
    },
    {
      "cell_type": "markdown",
      "source": [
        "18.  In what situations are lists preferred over dictionaries?\n",
        "\n",
        "Ans-**Lists** are preferred over **dictionaries** in situations where:\n",
        "\n",
        "1. **Order Matters**:\n",
        "   - If the order of elements is important (e.g., maintaining a sequence), a list is better because it preserves the order in which elements are added.\n",
        "   - Example: A list of tasks in the order they need to be completed.\n",
        "\n",
        "2. **Indexed by Position**:\n",
        "   - When you want to access elements by their position (index), lists are ideal.\n",
        "   - Example: Accessing the 3rd element in a list using `my_list[2]`.\n",
        "\n",
        "3. **No Need for Unique Keys**:\n",
        "   - Lists are good when you don’t need unique identifiers (keys) for each element.\n",
        "   - Example: A list of names where duplicates are allowed, such as `[\"Anu\", \"Ben\", \"Ajay\"]`.\n",
        "\n",
        "4. **Homogeneous Data**:\n",
        "   - If the data is similar or the same type and can be stored in a simple, ordered collection, a list is simpler to use.\n",
        "   - Example: A list of numbers or strings.\n",
        "\n",
        "### Example of when to use a list:\n",
        "```python\n",
        "my_list = [10, 20, 30]\n",
        "# Access by position\n",
        "print(my_list[1])  # Output: 20\n",
        "```\n",
        "\n",
        "In contrast, dictionaries are better for situations where you need to associate **unique keys** with **values**, and you need **fast lookups** based on keys."
      ],
      "metadata": {
        "id": "_PBHisKbHbKo"
      }
    },
    {
      "cell_type": "markdown",
      "source": [
        "19. Why are dictionaries considered unordered, and how does that affect data retrieval?\n",
        "\n",
        "Ans-Dictionaries are considered **unordered** because, in earlier versions of Python, the order in which you added items didn't matter. They used a system called **hashing**, where the keys are stored based on their hash value, not the order they were inserted.\n",
        "\n",
        "However, starting from Python 3.7, dictionaries do remember the order in which items were added, but this doesn't change how you retrieve data. Even though the order is remembered, dictionaries are still designed to quickly find values using keys, not their position in the dictionary."
      ],
      "metadata": {
        "id": "66M_zYpBHvsE"
      }
    },
    {
      "cell_type": "markdown",
      "source": [
        "20.  Explain the difference between a list and a dictionary in terms of data retrieval.\n",
        "\n",
        "Ans-The main difference between a **list** and a **dictionary** in terms of **data retrieval** lies in **how you access the data**:\n",
        "\n",
        "1. **List**:\n",
        "   - You retrieve data from a list using an **index** (position), which is a number representing the element's position in the list.\n",
        "   - **Order matters**: Lists preserve the order of elements, so the index determines which element you get.\n",
        "   - **Slower search**: To find an element, Python may have to go through the list until it finds the value (linear search), which takes more time if the list is large.\n",
        "\n",
        "2. **Dictionary**:\n",
        "   - You retrieve data from a dictionary using a **key**, not an index. A dictionary stores data in key-value pairs.\n",
        "   - **Order doesn’t matter** (though Python 3.7+ remembers the order of insertion, this is secondary to retrieval speed).\n",
        "   - **Faster search**: Dictionaries use **hashing**, so Python can quickly find the value associated with the key (constant time, O(1)).\n",
        "\n",
        "### Key Difference:\n",
        "- **Lists** use **indexes** (positions) to retrieve data, while **dictionaries** use **keys**. Dictionaries allow for **faster access** when searching for values, especially with large amounts of data."
      ],
      "metadata": {
        "id": "WfXurCxuIGA8"
      }
    },
    {
      "cell_type": "markdown",
      "source": [
        "# Practical Questions\n"
      ],
      "metadata": {
        "id": "3HpTfwwpIXgk"
      }
    },
    {
      "cell_type": "code",
      "source": [
        "#1 Write a code to create a string with your name and print it\n",
        "name = \"Saksham Jain\"\n",
        "print(name)"
      ],
      "metadata": {
        "colab": {
          "base_uri": "https://localhost:8080/"
        },
        "id": "VmdTvjlVIbfT",
        "outputId": "d315d85d-2eb2-4ffe-e308-4decd609cb7e"
      },
      "execution_count": 1,
      "outputs": [
        {
          "output_type": "stream",
          "name": "stdout",
          "text": [
            "Saksham Jain\n"
          ]
        }
      ]
    },
    {
      "cell_type": "code",
      "source": [
        "#2 Write a code to find the length of the string \"Hello World\"\n",
        "string = \"Hello World\"\n",
        "print(len(string))"
      ],
      "metadata": {
        "colab": {
          "base_uri": "https://localhost:8080/"
        },
        "id": "D7NjABK8Is4e",
        "outputId": "c9d8db15-2fd4-4a20-ecb8-1b078948982e"
      },
      "execution_count": 2,
      "outputs": [
        {
          "output_type": "stream",
          "name": "stdout",
          "text": [
            "11\n"
          ]
        }
      ]
    },
    {
      "cell_type": "code",
      "source": [
        "#3  Write a code to slice the first 3 characters from the string \"Python Programming\"\n",
        "string = \"Python Programming\"\n",
        "print(string[:3])"
      ],
      "metadata": {
        "colab": {
          "base_uri": "https://localhost:8080/"
        },
        "id": "_C1DjpkxJCUs",
        "outputId": "745b6641-0e4a-437a-f8fb-61bcd3c3b996"
      },
      "execution_count": 3,
      "outputs": [
        {
          "output_type": "stream",
          "name": "stdout",
          "text": [
            "Pyt\n"
          ]
        }
      ]
    },
    {
      "cell_type": "code",
      "source": [
        "#4 Write a code to convert the string \"hello\" to uppercase\n",
        "print(\"hello\".upper())\n"
      ],
      "metadata": {
        "colab": {
          "base_uri": "https://localhost:8080/"
        },
        "id": "e4ckZWCgJN3P",
        "outputId": "c4edf0a1-c7ea-415f-ddde-64545db5f0b0"
      },
      "execution_count": 4,
      "outputs": [
        {
          "output_type": "stream",
          "name": "stdout",
          "text": [
            "HELLO\n"
          ]
        }
      ]
    },
    {
      "cell_type": "code",
      "source": [
        "#5 Write a code to replace the word \"apple\" with \"orange\" in the string \"I like apple\"\n",
        "print(\"I like apple\".replace(\"apple\", \"orange\"))"
      ],
      "metadata": {
        "colab": {
          "base_uri": "https://localhost:8080/"
        },
        "id": "Ydo0CoDdJmbV",
        "outputId": "7370cd5b-4936-4075-b881-5d868b89a4da"
      },
      "execution_count": 5,
      "outputs": [
        {
          "output_type": "stream",
          "name": "stdout",
          "text": [
            "I like orange\n"
          ]
        }
      ]
    },
    {
      "cell_type": "code",
      "source": [
        "#6 Write a code to create a list with numbers 1 to 5 and print it\n",
        "my_list = [1, 2, 3, 4, 5]\n",
        "print(my_list)"
      ],
      "metadata": {
        "id": "rAUYGBR7Jw9Y"
      },
      "execution_count": null,
      "outputs": []
    },
    {
      "cell_type": "code",
      "source": [
        "#7 Write a code to append the number 10 to the list [1, 2, 3, 4]\n",
        "my_list = [1, 2, 3, 4]\n",
        "my_list.append(10)\n",
        "print(my_list)"
      ],
      "metadata": {
        "colab": {
          "base_uri": "https://localhost:8080/"
        },
        "id": "WT9wqRPUKJ9c",
        "outputId": "bfb1820d-fca9-47fc-9dc1-11789b096eb0"
      },
      "execution_count": 6,
      "outputs": [
        {
          "output_type": "stream",
          "name": "stdout",
          "text": [
            "[1, 2, 3, 4, 10]\n"
          ]
        }
      ]
    },
    {
      "cell_type": "code",
      "source": [
        "#8 Write a code to remove the number 3 from the list [1, 2, 3, 4, 5]\n",
        "my_list = [1, 2, 3, 4, 5]\n",
        "my_list.remove(3)\n",
        "print(my_list)"
      ],
      "metadata": {
        "colab": {
          "base_uri": "https://localhost:8080/"
        },
        "id": "K1P31C4CKTCM",
        "outputId": "8cefeca2-1cec-4f4a-f171-ccdb7cfb5bd2"
      },
      "execution_count": 7,
      "outputs": [
        {
          "output_type": "stream",
          "name": "stdout",
          "text": [
            "[1, 2, 4, 5]\n"
          ]
        }
      ]
    },
    {
      "cell_type": "code",
      "source": [
        "#9 Write a code to access the second element in the list ['a', 'b', 'c', 'd']\n",
        "my_list = ['a', 'b', 'c', 'd']\n",
        "print(my_list[1])"
      ],
      "metadata": {
        "colab": {
          "base_uri": "https://localhost:8080/"
        },
        "id": "w5jYwvi4KcVd",
        "outputId": "a930acc9-e9b7-4fb9-c831-b2716208668a"
      },
      "execution_count": 8,
      "outputs": [
        {
          "output_type": "stream",
          "name": "stdout",
          "text": [
            "b\n"
          ]
        }
      ]
    },
    {
      "cell_type": "code",
      "source": [
        "#10 Write a code to reverse the list [10, 20, 30, 40, 50]\n",
        "my_list = [10, 20, 30, 40, 50]\n",
        "my_list.reverse()\n",
        "print(my_list)"
      ],
      "metadata": {
        "colab": {
          "base_uri": "https://localhost:8080/"
        },
        "id": "3VcxYK7PKmXp",
        "outputId": "1a857fde-bec4-4ddf-9988-63cd97a921f0"
      },
      "execution_count": 9,
      "outputs": [
        {
          "output_type": "stream",
          "name": "stdout",
          "text": [
            "[50, 40, 30, 20, 10]\n"
          ]
        }
      ]
    },
    {
      "cell_type": "code",
      "source": [
        "#11 Write a code to create a tuple with the elements 10, 20, 30 and print it\n",
        "my_tuple = (10, 20, 30)\n",
        "print(my_tuple)"
      ],
      "metadata": {
        "colab": {
          "base_uri": "https://localhost:8080/"
        },
        "id": "WWCqwANNKxfb",
        "outputId": "2fc87517-c409-4ba3-f1cd-0fc038c191f1"
      },
      "execution_count": 10,
      "outputs": [
        {
          "output_type": "stream",
          "name": "stdout",
          "text": [
            "(10, 20, 30)\n"
          ]
        }
      ]
    },
    {
      "cell_type": "code",
      "source": [
        "#12  Write a code to access the first element of the tuple ('apple', 'banana', 'cherry')\n",
        "my_tuple = ('apple', 'banana', 'cherry')\n",
        "print(my_tuple[0])"
      ],
      "metadata": {
        "colab": {
          "base_uri": "https://localhost:8080/"
        },
        "id": "9gFTBoOMK5gE",
        "outputId": "0f41547c-5c87-4e61-db25-f483ae98bafb"
      },
      "execution_count": 11,
      "outputs": [
        {
          "output_type": "stream",
          "name": "stdout",
          "text": [
            "apple\n"
          ]
        }
      ]
    },
    {
      "cell_type": "code",
      "source": [
        "#13  Write a code to count how many times the number 2 appears in the tuple (1, 2, 3, 2, 4, 2)\n",
        "my_tuple = (1, 2, 3, 2, 4, 2)\n",
        "count = my_tuple.count(2)\n",
        "print(count)"
      ],
      "metadata": {
        "colab": {
          "base_uri": "https://localhost:8080/"
        },
        "id": "4f7reml3LBLU",
        "outputId": "6bff67aa-ad38-4751-9c89-6a2cf54b7a93"
      },
      "execution_count": 12,
      "outputs": [
        {
          "output_type": "stream",
          "name": "stdout",
          "text": [
            "3\n"
          ]
        }
      ]
    },
    {
      "cell_type": "code",
      "source": [
        "#14  Write a code to find the index of the element \"cat\" in the tuple ('dog', 'cat', 'rabbit')\n",
        "my_tuple = ('dog', 'cat', 'rabbit')\n",
        "index = my_tuple.index('cat')\n",
        "print(index)"
      ],
      "metadata": {
        "colab": {
          "base_uri": "https://localhost:8080/"
        },
        "id": "WQhejW8sLX_U",
        "outputId": "240ffdb9-e7ed-489c-bb5c-7387b98971a0"
      },
      "execution_count": 13,
      "outputs": [
        {
          "output_type": "stream",
          "name": "stdout",
          "text": [
            "1\n"
          ]
        }
      ]
    },
    {
      "cell_type": "code",
      "source": [
        "#15  Write a code to check if the element \"banana\" is in the tuple ('apple', 'orange', 'banana')\n",
        "my_tuple = ('apple', 'orange', 'banana')\n",
        "if \"banana\" in my_tuple:\n",
        "    print(\"Banana is in the tuple\")\n",
        "else:\n",
        "    print(\"Banana is not in the tuple\")"
      ],
      "metadata": {
        "colab": {
          "base_uri": "https://localhost:8080/"
        },
        "id": "LSD4DU2vLkNE",
        "outputId": "a91c74a4-619b-440d-f8bf-d15565fbc6cc"
      },
      "execution_count": 18,
      "outputs": [
        {
          "output_type": "stream",
          "name": "stdout",
          "text": [
            "Banana is in the tuple\n"
          ]
        }
      ]
    },
    {
      "cell_type": "code",
      "source": [
        "#16 Write a code to create a set with the elements 1, 2, 3, 4, 5 and print it.\n",
        "my_set = {1, 2, 3, 4, 5}\n",
        "print(my_set)\n"
      ],
      "metadata": {
        "colab": {
          "base_uri": "https://localhost:8080/"
        },
        "id": "K5uCtKnZMP8z",
        "outputId": "0bec7857-6f9f-4450-c296-33f8b78bcc08"
      },
      "execution_count": 17,
      "outputs": [
        {
          "output_type": "stream",
          "name": "stdout",
          "text": [
            "{1, 2, 3, 4, 5}\n"
          ]
        }
      ]
    },
    {
      "cell_type": "code",
      "source": [
        "#17 Write a code to add the element 6 to the set {1, 2, 3, 4}\n",
        "my_set = {1, 2, 3, 4}\n",
        "my_set.add(6)\n",
        "print(my_set)"
      ],
      "metadata": {
        "colab": {
          "base_uri": "https://localhost:8080/"
        },
        "id": "zjCV-SlFNREc",
        "outputId": "0aa6ec8b-138f-4ce0-a466-4d53d7de1b91"
      },
      "execution_count": 19,
      "outputs": [
        {
          "output_type": "stream",
          "name": "stdout",
          "text": [
            "{1, 2, 3, 4, 6}\n"
          ]
        }
      ]
    },
    {
      "cell_type": "code",
      "source": [
        "#18 Write a code to create a tuple with the elements 10, 20, 30 and print it\n",
        "my_tuple = (10, 20, 30)\n",
        "print(my_tuple)\n"
      ],
      "metadata": {
        "colab": {
          "base_uri": "https://localhost:8080/"
        },
        "id": "I4d1zbFlNd4o",
        "outputId": "d7a8409d-829c-4acb-d4bf-fb8971f6beb4"
      },
      "execution_count": 20,
      "outputs": [
        {
          "output_type": "stream",
          "name": "stdout",
          "text": [
            "(10, 20, 30)\n"
          ]
        }
      ]
    },
    {
      "cell_type": "code",
      "source": [
        "#19 Write a code to access the first element of the tuple ('apple', 'banana', 'cherry')\n",
        "my_tuple = ('apple', 'banana', 'cherry')\n",
        "print(my_tuple[0])"
      ],
      "metadata": {
        "colab": {
          "base_uri": "https://localhost:8080/"
        },
        "id": "pMJeCVkBNr-k",
        "outputId": "3a7ea4a1-2d2c-4525-a1d0-3d9d27f788eb"
      },
      "execution_count": 21,
      "outputs": [
        {
          "output_type": "stream",
          "name": "stdout",
          "text": [
            "apple\n"
          ]
        }
      ]
    },
    {
      "cell_type": "code",
      "source": [
        "#20 Write a code to count how many times the number 2 appears in the tuple (1, 2, 3, 2, 4, 2)\n",
        "my_tuple = (1, 2, 3, 2, 4, 2)\n",
        "count = my_tuple.count(2)\n",
        "print(count)"
      ],
      "metadata": {
        "colab": {
          "base_uri": "https://localhost:8080/"
        },
        "id": "4fTU0zQ-NzTW",
        "outputId": "b90b236b-5ad5-48c8-d05d-9cdda5aa7f9a"
      },
      "execution_count": 22,
      "outputs": [
        {
          "output_type": "stream",
          "name": "stdout",
          "text": [
            "3\n"
          ]
        }
      ]
    },
    {
      "cell_type": "code",
      "source": [
        "#21 Write a code to find the index of the element \"cat\" in the tuple ('dog', 'cat', 'rabbit').\n",
        "my_tuple = ('dog', 'cat', 'rabbit')\n",
        "index = my_tuple.index('cat')\n",
        "print(index)"
      ],
      "metadata": {
        "colab": {
          "base_uri": "https://localhost:8080/"
        },
        "id": "FWjf7XIEOKJs",
        "outputId": "c88dec61-f257-4b37-834d-3fb1d07ea7c8"
      },
      "execution_count": 23,
      "outputs": [
        {
          "output_type": "stream",
          "name": "stdout",
          "text": [
            "1\n"
          ]
        }
      ]
    },
    {
      "cell_type": "code",
      "source": [
        "#22 Write a code to check if the element \"banana\" is in the tuple ('apple', 'orange', 'banana')\n",
        "my_tuple = ('apple', 'orange', 'banana')\n",
        "if \"banana\" in my_tuple:\n",
        "    print(\"Banana is in the tuple\")\n",
        "else:\n",
        "    print(\"Banana is not in the tuple\")"
      ],
      "metadata": {
        "colab": {
          "base_uri": "https://localhost:8080/"
        },
        "id": "fLQbRke1ORSM",
        "outputId": "f7954405-733d-4a5c-89a9-b073597996e8"
      },
      "execution_count": 24,
      "outputs": [
        {
          "output_type": "stream",
          "name": "stdout",
          "text": [
            "Banana is in the tuple\n"
          ]
        }
      ]
    },
    {
      "cell_type": "code",
      "source": [
        "#23  Write a code to create a set with the elements 1, 2, 3, 4, 5 and print it\n",
        "my_set = {1, 2, 3, 4, 5}\n",
        "print(my_set)"
      ],
      "metadata": {
        "colab": {
          "base_uri": "https://localhost:8080/"
        },
        "id": "OGT1r59bOZKs",
        "outputId": "4c188691-c887-4d08-e33a-1bb5c8dbc390"
      },
      "execution_count": 25,
      "outputs": [
        {
          "output_type": "stream",
          "name": "stdout",
          "text": [
            "{1, 2, 3, 4, 5}\n"
          ]
        }
      ]
    },
    {
      "cell_type": "code",
      "source": [
        "#24  Write a code to add the element 6 to the set {1, 2, 3, 4}.\n",
        "my_set = {1, 2, 3, 4}\n",
        "my_set.add(6)\n",
        "print(my_set)"
      ],
      "metadata": {
        "colab": {
          "base_uri": "https://localhost:8080/"
        },
        "id": "Lf5IbAF0OeV1",
        "outputId": "d2f2ac88-6f26-424b-b973-0f240720315e"
      },
      "execution_count": 26,
      "outputs": [
        {
          "output_type": "stream",
          "name": "stdout",
          "text": [
            "{1, 2, 3, 4, 6}\n"
          ]
        }
      ]
    }
  ]
}